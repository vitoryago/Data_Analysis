{
 "cells": [
  {
   "cell_type": "markdown",
   "metadata": {},
   "source": [
    "Importing DataSets and Libraries"
   ]
  },
  {
   "cell_type": "code",
   "execution_count": null,
   "metadata": {},
   "outputs": [],
   "source": [
    "import pandas as pd\n",
    "import pathlib\n",
    "import numpy as np\n",
    "import seaborn as sns\n",
    "import matplotlib.pyplot as plt\n",
    "import plotly.express as px\n",
    "from sklearn.metrics import r2_score, mean_squared_error\n",
    "from sklearn.linear_model import LinearRegression\n",
    "from sklearn.ensemble import RandomForestRegressor, ExtraTreesRegressor\n",
    "from sklearn.model_selection import train_test_split"
   ]
  },
  {
   "cell_type": "code",
   "execution_count": null,
   "metadata": {},
   "outputs": [],
   "source": [
    "#Creating a base path to simplify our access to the files\n",
    "base_path = pathlib.Path(r'C:\\Users\\Vitor Yago\\Documents\\GitHub\\Data_Analysis\\dataset\\dataset')\n",
    "\n",
    "#Creating the DataFrame\n",
    "airbnb_base = pd.DataFrame()\n",
    "\n",
    "#Creating a dictionary with the abbreviated name of the months (in Portuguese) \n",
    "months = {'jan': 1, 'fev': 2, 'mar': 3, 'abr': 4, 'mai': 5, 'jun': 6, 'jul': 7, 'ago': 8, 'set': 9, 'out': 10, 'nov': 11, 'dez': 12}\n",
    "\n",
    "for file in base_path.iterdir():\n",
    "    #Printing file name\n",
    "    # print(file.name)\n",
    "\n",
    "    #Year and Month\n",
    "    month = months[file.name[:3]]\n",
    "    year = file.name[-8:]\n",
    "    year = year.replace('.csv', '')\n",
    "    year = int(year)\n",
    "\n",
    "    DataFrame = pd.read_csv(base_path / file.name)\n",
    "    DataFrame['Year'] = year\n",
    "    DataFrame['Month'] = month\n",
    "    airbnb_base = airbnb_base.append(DataFrame)"
   ]
  },
  {
   "cell_type": "markdown",
   "metadata": {},
   "source": [
    "Cleaning the base and creating a list with columns information.\n",
    "\n",
    "After the cleanig, we only kept 34 columns"
   ]
  },
  {
   "cell_type": "code",
   "execution_count": null,
   "metadata": {},
   "outputs": [],
   "source": [
    "#Creating a list with the columns name\n",
    "columns = ['host_response_time','host_response_rate','host_is_superhost','host_listings_count','latitude','longitude','property_type','room_type','accommodates','bathrooms','bedrooms','beds','bed_type','amenities','price','security_deposit','cleaning_fee','guests_included','extra_people','minimum_nights','maximum_nights','number_of_reviews','review_scores_rating','review_scores_accuracy','review_scores_cleanliness','review_scores_checkin','review_scores_communication','review_scores_location','review_scores_value','instant_bookable','is_business_travel_ready','cancellation_policy','Year','Month']\n",
    "\n",
    "#Filtering the Database\n",
    "airbnb_base = airbnb_base.loc[:, columns]\n",
    "\n",
    "#Checking if the filter worked\n",
    "# print(list(airbnb_base.columns))\n",
    "# display(airbnb_base)"
   ]
  },
  {
   "cell_type": "markdown",
   "metadata": {},
   "source": [
    "Treating a Not a Number value (NaN)"
   ]
  },
  {
   "cell_type": "code",
   "execution_count": null,
   "metadata": {},
   "outputs": [],
   "source": [
    "#How many columns have a NaN value?\n",
    "print(airbnb_base.isnull().sum())"
   ]
  },
  {
   "cell_type": "markdown",
   "metadata": {},
   "source": [
    "After analyzing the amount of NaN value, I decided to exclude the \"reviews\" columns from our dataset, because they have less then 50% of all data.\n",
    "\n",
    "I'll exclude the columns with more than 300,000 NaN values"
   ]
  },
  {
   "cell_type": "code",
   "execution_count": null,
   "metadata": {},
   "outputs": [],
   "source": [
    "for column in airbnb_base:\n",
    "    if airbnb_base[column].isnull().sum() > 300000:\n",
    "        airbnb_base = airbnb_base.drop(column, axis=1)\n",
    "\n",
    "# print(airbnb_base.isnull().sum())\n",
    "\n",
    "#For the rest of the columns that still have some NaN value, I'll exclude the line with the NaN value.\n",
    "airbnb_base = airbnb_base.dropna()\n",
    "\n",
    "print(airbnb_base.shape)\n",
    "print(airbnb_base.isnull().sum())"
   ]
  },
  {
   "cell_type": "markdown",
   "metadata": {},
   "source": [
    "Treating the data: What are the data types?"
   ]
  },
  {
   "cell_type": "code",
   "execution_count": null,
   "metadata": {},
   "outputs": [],
   "source": [
    "#Comparing the type with the first information of every column\n",
    "print(airbnb_base.dtypes)"
   ]
  },
  {
   "cell_type": "code",
   "execution_count": null,
   "metadata": {},
   "outputs": [],
   "source": [
    "#price - need to be a float not object\n",
    "airbnb_base['price'] = airbnb_base['price'].str.replace('$','')\n",
    "airbnb_base['price'] = airbnb_base['price'].str.replace(',','')\n",
    "airbnb_base['price'] = airbnb_base['price'].astype(np.float32, copy=False)\n",
    "\n",
    "#extra people - need to be a float not object\n",
    "airbnb_base['extra_people'] = airbnb_base['extra_people'].str.replace('$', '')\n",
    "airbnb_base['extra_people'] = airbnb_base['extra_people'].str.replace(',', '')\n",
    "airbnb_base['extra_people'] = airbnb_base['extra_people'].astype(np.float32, copy=False)"
   ]
  },
  {
   "cell_type": "markdown",
   "metadata": {},
   "source": [
    "Treating the Outliers and finding the correlations between columns"
   ]
  },
  {
   "cell_type": "code",
   "execution_count": null,
   "metadata": {},
   "outputs": [],
   "source": [
    "plt.figure(figsize=(15, 10))\n",
    "sns.heatmap(airbnb_base.corr(), annot=True, cmap='Greens')"
   ]
  },
  {
   "cell_type": "markdown",
   "metadata": {},
   "source": [
    "Functions area\n"
   ]
  },
  {
   "cell_type": "code",
   "execution_count": null,
   "metadata": {},
   "outputs": [],
   "source": [
    "#Creating a function to determine the maximum and minimum of the analysis\n",
    "\n",
    "def limits(column):\n",
    "    q1 = column.quantile(0.25)\n",
    "    q3 = column.quantile(0.75)\n",
    "    amp = q3 - q1\n",
    "    return q1 - 1.5*amp, q3 + 1.5*amp\n",
    "\n",
    "#Creating a function to do the box diagram\n",
    "def box_diagram(column):\n",
    "    fig, (ax1, ax2) = plt.subplots(1, 2)\n",
    "    fig.set_size_inches(15, 5)\n",
    "    sns.boxplot(x=column, ax=ax1)\n",
    "    ax2.set_xlim(limits(column))\n",
    "    sns.boxplot(x=column, ax=ax2)\n",
    "\n",
    "# def histogram(column):\n",
    "#     plt.figure(figsize=(15, 5))\n",
    "#     sns.distplot(column, hist=True)\n",
    "\n",
    "#Creating a function to do the histogram\n",
    "def histogram(column):\n",
    "    plt.figure(figsize=(15, 5))\n",
    "    sns.histplot(column)\n",
    "\n",
    "#Creating a function to do a bar graph\n",
    "def bar_graph(column):  \n",
    "    plt.figure(figsize=(15, 5))\n",
    "    ax = sns.barplot(x=column.value_counts().index, y=column.value_counts())\n",
    "    ax.set_xlim(limits(column))\n",
    "\n",
    "#Creating a function that excludes outliers\n",
    "def exc_outliers(df, column_name):\n",
    "    number_lines = df.shape[0]\n",
    "    low_limit, upp_limit = limits(df[column_name])\n",
    "    df = df.loc[(df[column_name] >= low_limit) | (df[column_name] <= upp_limit), :]\n",
    "    deleted_lines = number_lines - df.shape[0]\n",
    "    return df,  deleted_lines"
   ]
  },
  {
   "cell_type": "code",
   "execution_count": null,
   "metadata": {},
   "outputs": [],
   "source": [
    "airbnb_base, deleted_lines = exc_outliers(airbnb_base, 'extra_people')\n",
    "print('{} lines removed'.format(deleted_lines))\n",
    "\n",
    "airbnb_base, deleted_lines = exc_outliers(airbnb_base, 'host_listings_count')\n",
    "print('{} lines removed'.format(deleted_lines))\n",
    "\n",
    "airbnb_base, deleted_lines = exc_outliers(airbnb_base, 'accommodates')\n",
    "print('{} lines removed'.format(deleted_lines))\n",
    "\n",
    "airbnb_base, deleted_lines = exc_outliers(airbnb_base, 'bathrooms')\n",
    "print('{} lines removed'.format(deleted_lines))\n",
    "\n",
    "airbnb_base, deleted_lines = exc_outliers(airbnb_base, 'bedrooms')\n",
    "print('{} lines removed'.format(deleted_lines))\n",
    "\n",
    "airbnb_base, deleted_lines = exc_outliers(airbnb_base, 'beds')\n",
    "print('{} lines removed'.format(deleted_lines))\n",
    "\n",
    "airbnb_base = airbnb_base.drop('guests_included', axis=1)\n",
    "airbnb_base.shape\n",
    "\n",
    "airbnb_base, deleted_lines = exc_outliers(airbnb_base, 'minimum_nights')\n",
    "print('{} lines removed'.format(deleted_lines))\n",
    "\n",
    "airbnb_base = airbnb_base.drop('maximum_nights', axis=1)\n",
    "airbnb_base.shape\n",
    "\n",
    "airbnb_base = airbnb_base.drop('number_of_reviews', axis=1)\n",
    "airbnb_base.shape\n",
    "\n"
   ]
  },
  {
   "cell_type": "code",
   "execution_count": null,
   "metadata": {},
   "outputs": [],
   "source": [
    "print(airbnb_base['property_type'].value_counts())\n",
    "\n",
    "plt.figure(figsize=(15, 5))\n",
    "graph = sns.countplot('property_type', data=airbnb_base)\n",
    "graph.tick_params(axis='x', rotation=90)"
   ]
  },
  {
   "cell_type": "code",
   "execution_count": null,
   "metadata": {},
   "outputs": [],
   "source": [
    "house_table_types = airbnb_base['property_type'].value_counts()\n",
    "group_columns = []\n",
    "\n",
    "for type in house_table_types.index:\n",
    "    if house_table_types[type] < 2000:\n",
    "        group_columns.append(type)\n",
    "print(group_columns)\n",
    "\n",
    "for type in group_columns:\n",
    "    airbnb_base.loc[airbnb_base['property_type']==type, 'property_type'] = 'Other'\n",
    "\n",
    "print(airbnb_base['property_type'].value_counts())\n",
    "plt.figure(figsize=(15, 5))\n",
    "grafico = sns.countplot('property_type', data=airbnb_base)\n",
    "grafico.tick_params(axis='x', rotation=90)"
   ]
  },
  {
   "cell_type": "code",
   "execution_count": null,
   "metadata": {},
   "outputs": [],
   "source": [
    "print(airbnb_base['cancellation_policy'].value_counts())\n",
    "\n",
    "plt.figure(figsize=(15, 5))\n",
    "graph = sns.countplot('cancellation_policy', data=airbnb_base)\n",
    "graph.tick_params(axis='x', rotation=90)\n",
    "\n",
    "table_cancellation = airbnb_base['cancellation_policy'].value_counts()\n",
    "group_columns = []\n",
    "\n",
    "for type in table_cancellation.index:\n",
    "    if table_cancellation[type] < 10000:\n",
    "        group_columns.append(type)\n",
    "print(group_columns)\n",
    "\n",
    "for type in group_columns:\n",
    "    airbnb_base.loc[airbnb_base['cancellation_policy']==type, 'cancellation_policy'] = 'strict'\n",
    "\n",
    "print(airbnb_base['cancellation_policy'].value_counts())\n",
    "plt.figure(figsize=(15, 5))\n",
    "graph = sns.countplot('cancellation_policy', data=airbnb_base)\n",
    "graph.tick_params(axis='x', rotation=90)"
   ]
  },
  {
   "cell_type": "code",
   "execution_count": null,
   "metadata": {},
   "outputs": [],
   "source": [
    "print(airbnb_base['amenities'].iloc[1].split(','))\n",
    "print(len(airbnb_base['amenities'].iloc[1].split(',')))\n",
    "\n",
    "airbnb_base['n_amenities'] = airbnb_base['amenities'].str.split(',').apply(len)\n",
    "airbnb_base['n_amenities'] = airbnb_base['amenities'].str.split(',').apply(len)\n",
    "\n",
    "airbnb_base = airbnb_base.drop('amenities', axis=1)\n",
    "airbnb_base.shape\n",
    "\n",
    "box_diagram(airbnb_base['n_amenities'])\n",
    "bar_graph(airbnb_base['n_amenities'])"
   ]
  },
  {
   "cell_type": "code",
   "execution_count": null,
   "metadata": {},
   "outputs": [],
   "source": [
    "sample = airbnb_base.sample(n=100000)\n",
    "map_center = {'lat':sample.latitude.mean(), 'lon':sample.longitude.mean()}\n",
    "map = px.density_mapbox(sample, lat='latitude', lon='longitude',z='price', radius=2.5,\n",
    "                        center=map_center, zoom=10,\n",
    "                        mapbox_style='stamen-terrain')\n",
    "map.show()"
   ]
  },
  {
   "cell_type": "code",
   "execution_count": null,
   "metadata": {},
   "outputs": [],
   "source": [
    "columns_tf = ['host_is_superhost', 'instant_bookable', 'is_business_travel_ready']\n",
    "airbnb_base_cod = airbnb_base.copy()\n",
    "for coluna in columns_tf:\n",
    "    airbnb_base_cod.loc[airbnb_base_cod[coluna]=='t', coluna] = 1\n",
    "    airbnb_base_cod.loc[airbnb_base_cod[coluna]=='f', coluna] = 0\n",
    "\n",
    "categories_columns = ['property_type', 'room_type', 'bed_type', 'cancellation_policy']\n",
    "airbnb_base_cod = pd.get_dummies(data=airbnb_base_cod, columns=categories_columns)\n",
    "display(airbnb_base_cod.head())"
   ]
  },
  {
   "cell_type": "code",
   "execution_count": null,
   "metadata": {},
   "outputs": [],
   "source": [
    "def evalueate_model(model_name, y_test, prevision):\n",
    "    r2 = r2_score(y_test, prevision)\n",
    "    RSME = np.sqrt(mean_squared_error(y_test, prevision))\n",
    "    return f'Modelo {model_name}:\\nR²:{r2:.2%}\\nRSME:{RSME:.2f}'"
   ]
  },
  {
   "cell_type": "code",
   "execution_count": null,
   "metadata": {},
   "outputs": [],
   "source": [
    "model_rf = RandomForestRegressor()\n",
    "model_lr = LinearRegression()\n",
    "model_et = ExtraTreesRegressor()\n",
    "\n",
    "model = {'RandomForest': model_rf,\n",
    "          'LinearRegression': model_lr,\n",
    "          'ExtraTrees': model_et,\n",
    "          }\n",
    "\n",
    "y = airbnb_base_cod['price']\n",
    "X = airbnb_base_cod.drop('price', axis=1)"
   ]
  },
  {
   "cell_type": "code",
   "execution_count": null,
   "metadata": {},
   "outputs": [],
   "source": [
    "X_train, X_test, y_train, y_test = train_test_split(X, y, random_state=10)\n",
    "\n",
    "for model_name, model in model.items():\n",
    "\n",
    "    model.fit(X_train, y_train)\n",
    "\n",
    "    forecast = model.predict(X_test)\n",
    "    print(evalueate_model(model_name, y_test, forecast))"
   ]
  },
  {
   "cell_type": "code",
   "execution_count": null,
   "metadata": {},
   "outputs": [],
   "source": [
    "for model_name, model in model.items():\n",
    "    #testar\n",
    "    predict = model.predict(X_test)\n",
    "    print(evalueate_model(model_name, y_test, predict))"
   ]
  },
  {
   "cell_type": "code",
   "execution_count": null,
   "metadata": {},
   "outputs": [],
   "source": [
    "#print(modelo_et.feature_importances_)\n",
    "#print(X_train.columns)\n",
    "feauture_importances = pd.DataFrame(model_et.feature_importances_, X_train.columns)\n",
    "feauture_importances = feauture_importances.sort_values(by=0, ascending=False)\n",
    "display(feauture_importances)\n",
    "plt.figure(figsize=(15, 5))\n",
    "ax = sns.barplot(x=feauture_importances.index, y=feauture_importances[0])\n",
    "ax.tick_params(axis='x', rotation=90)"
   ]
  },
  {
   "cell_type": "code",
   "execution_count": null,
   "metadata": {},
   "outputs": [],
   "source": [
    "X['price'] = y\n",
    "X.to_csv('data.csv')\n",
    "import joblib\n",
    "joblib.dump(model_et, 'model.joblib')"
   ]
  }
 ],
 "metadata": {
  "interpreter": {
   "hash": "837398422be123782dc1c23b28cd4c37bec1cb2bcd6eecca3344101f64e3a8b8"
  },
  "kernelspec": {
   "display_name": "Python 3.10.2 64-bit",
   "language": "python",
   "name": "python3"
  },
  "language_info": {
   "codemirror_mode": {
    "name": "ipython",
    "version": 3
   },
   "file_extension": ".py",
   "mimetype": "text/x-python",
   "name": "python",
   "nbconvert_exporter": "python",
   "pygments_lexer": "ipython3",
   "version": "3.10.2"
  },
  "orig_nbformat": 4
 },
 "nbformat": 4,
 "nbformat_minor": 2
}
