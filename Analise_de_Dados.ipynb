{
 "cells": [
  {
   "cell_type": "markdown",
   "metadata": {},
   "source": [
    "Importação dos Módulos e Arquivos"
   ]
  },
  {
   "cell_type": "code",
   "execution_count": 7,
   "metadata": {},
   "outputs": [],
   "source": [
    "import pandas as pd\n",
    "import openpyxl\n",
    "\n",
    "funcionarios_df = pd.read_csv(r'CadastroFuncionarios.csv', sep = ';', decimal=',')\n",
    "clientes_df = pd.read_csv('CadastroClientes.csv', sep=';', decimal=',')\n",
    "servicos_df = pd.read_excel('BaseServiçosPrestados.xlsx')\n",
    "\n",
    "#Retirar colunas Estado Civil e Cargo da tabela de funcionários\n",
    "funcionarios_df = funcionarios_df.drop(['Estado Civil', 'Cargo'], axis=1)\n",
    "\n",
    "# display(funcionarios_df)\n",
    "# display(clientes_df)\n",
    "# display(servicos_df)"
   ]
  },
  {
   "cell_type": "markdown",
   "metadata": {},
   "source": [
    "Folha Salarial: Gasto total mensal"
   ]
  },
  {
   "cell_type": "code",
   "execution_count": 9,
   "metadata": {},
   "outputs": [
    {
     "name": "stdout",
     "output_type": "stream",
     "text": [
      "Custo total com folha salarial mensal é de R$2,717,493.22\n"
     ]
    }
   ],
   "source": [
    "funcionarios_df['Salário Total'] = funcionarios_df['Salario Base'] + funcionarios_df['Impostos'] + funcionarios_df['Beneficios'] + funcionarios_df['VT'] + funcionarios_df['VR']\n",
    "print('Custo total com folha salarial mensal é de R${:,}' .format(funcionarios_df['Salário Total'].sum()))"
   ]
  },
  {
   "cell_type": "markdown",
   "metadata": {},
   "source": [
    "Faturamento da Empresa"
   ]
  },
  {
   "cell_type": "code",
   "execution_count": 14,
   "metadata": {},
   "outputs": [
    {
     "name": "stdout",
     "output_type": "stream",
     "text": [
      "O faturamento total da empresa foi de R$5,519,160\n"
     ]
    }
   ],
   "source": [
    "faturamentos_df = servicos_df.merge(clientes_df, on='ID Cliente')\n",
    "faturamentos_df['Faturamento Total'] = faturamentos_df['Tempo Total de Contrato (Meses)'] * faturamentos_df['Valor Contrato Mensal']\n",
    "print('O faturamento total da empresa foi de R${:,}' .format(sum(faturamentos_df['Faturamento Total'])))"
   ]
  },
  {
   "cell_type": "markdown",
   "metadata": {},
   "source": [
    "% de funcionários fecharam contrato"
   ]
  },
  {
   "cell_type": "code",
   "execution_count": 16,
   "metadata": {},
   "outputs": [
    {
     "name": "stdout",
     "output_type": "stream",
     "text": [
      "Temos um total de 86.84% funcionários que fecharam contrato\n"
     ]
    }
   ],
   "source": [
    "qtde_funcionarios_fecharam_contrato = len(servicos_df['ID Funcionário'].unique())\n",
    "qtde_funcionarios_total = len(funcionarios_df['ID Funcionário'])\n",
    "print('Temos um total de {:.2%} funcionários que fecharam contrato' .format(qtde_funcionarios_fecharam_contrato/qtde_funcionarios_total))"
   ]
  },
  {
   "cell_type": "markdown",
   "metadata": {},
   "source": [
    "Quantidade de Contratos por Área"
   ]
  },
  {
   "cell_type": "code",
   "execution_count": 18,
   "metadata": {},
   "outputs": [
    {
     "name": "stdout",
     "output_type": "stream",
     "text": [
      "Administrativo    63\n",
      "Operações         48\n",
      "Comercial         44\n",
      "Financeiro        42\n",
      "Logística         40\n",
      "Name: Area, dtype: int64\n"
     ]
    }
   ],
   "source": [
    "contratos_area = servicos_df[['ID Funcionário']].merge(funcionarios_df[['ID Funcionário', 'Area']], on='ID Funcionário')\n",
    "contratos_area_qtde = contratos_area['Area'].value_counts()\n",
    "print(contratos_area_qtde)"
   ]
  },
  {
   "cell_type": "markdown",
   "metadata": {},
   "source": [
    "Quantidade de Funcionários por Área"
   ]
  },
  {
   "cell_type": "code",
   "execution_count": 19,
   "metadata": {},
   "outputs": [
    {
     "name": "stdout",
     "output_type": "stream",
     "text": [
      "Administrativo    26\n",
      "Comercial         26\n",
      "Operações         23\n",
      "Logística         21\n",
      "Financeiro        18\n",
      "Name: Area, dtype: int64\n"
     ]
    }
   ],
   "source": [
    "funcionarios_area = funcionarios_df['Area'].value_counts()\n",
    "print(funcionarios_area)"
   ]
  },
  {
   "cell_type": "markdown",
   "metadata": {},
   "source": [
    "Ticket Médio Mensal"
   ]
  },
  {
   "cell_type": "code",
   "execution_count": 22,
   "metadata": {},
   "outputs": [
    {
     "name": "stdout",
     "output_type": "stream",
     "text": [
      "Ticket Médio Mensal: R$2,502.56\n"
     ]
    }
   ],
   "source": [
    "ticket_medio = clientes_df['Valor Contrato Mensal'].mean()\n",
    "print('Ticket Médio Mensal: R${:,.2f}' .format(ticket_medio))"
   ]
  }
 ],
 "metadata": {
  "interpreter": {
   "hash": "837398422be123782dc1c23b28cd4c37bec1cb2bcd6eecca3344101f64e3a8b8"
  },
  "kernelspec": {
   "display_name": "Python 3.10.2 64-bit",
   "language": "python",
   "name": "python3"
  },
  "language_info": {
   "codemirror_mode": {
    "name": "ipython",
    "version": 3
   },
   "file_extension": ".py",
   "mimetype": "text/x-python",
   "name": "python",
   "nbconvert_exporter": "python",
   "pygments_lexer": "ipython3",
   "version": "3.10.2"
  },
  "orig_nbformat": 4
 },
 "nbformat": 4,
 "nbformat_minor": 2
}
